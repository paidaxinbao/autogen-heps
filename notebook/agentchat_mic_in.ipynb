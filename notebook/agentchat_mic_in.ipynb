{
 "cells": [
  {
   "cell_type": "code",
   "execution_count": 1,
   "metadata": {},
   "outputs": [
    {
     "ename": "ModuleNotFoundError",
     "evalue": "No module named 'distutils'",
     "output_type": "error",
     "traceback": [
      "\u001b[1;31m---------------------------------------------------------------------------\u001b[0m",
      "\u001b[1;31mModuleNotFoundError\u001b[0m                       Traceback (most recent call last)",
      "Cell \u001b[1;32mIn[1], line 2\u001b[0m\n\u001b[0;32m      1\u001b[0m \u001b[38;5;28;01mimport\u001b[39;00m \u001b[38;5;21;01mspeech_recognition\u001b[39;00m \u001b[38;5;28;01mas\u001b[39;00m \u001b[38;5;21;01msr\u001b[39;00m\n\u001b[1;32m----> 2\u001b[0m \u001b[38;5;28;01mimport\u001b[39;00m \u001b[38;5;21;01mdistutils\u001b[39;00m\n\u001b[0;32m      4\u001b[0m \u001b[38;5;66;03m#\u001b[39;00m\n\u001b[0;32m      5\u001b[0m \u001b[38;5;66;03m#from distutils.version import LooseVersion\u001b[39;00m\n\u001b[0;32m      6\u001b[0m \u001b[38;5;66;03m#\u001b[39;00m\n\u001b[0;32m      7\u001b[0m \u001b[38;5;28;01mdef\u001b[39;00m \u001b[38;5;21mget_text_input\u001b[39m():\n\u001b[0;32m      8\u001b[0m     \u001b[38;5;66;03m# Ask user for text input\u001b[39;00m\n",
      "\u001b[1;31mModuleNotFoundError\u001b[0m: No module named 'distutils'"
     ]
    }
   ],
   "source": [
    "#\n",
    "# Simple Sample to Read input from a speaker and convert it to Text\n",
    "#\n",
    "import speech_recognition as sr\n",
    "import distutils\n",
    "\n",
    "#\n",
    "# from distutils.version import LooseVersion\n",
    "#\n",
    "\n",
    "\n",
    "def get_text_input():\n",
    "    # Ask user for text input\n",
    "    text = input(\"Enter your text: \")\n",
    "    return text\n",
    "\n",
    "\n",
    "def get_voice_input():\n",
    "    # Initialize recognizer\n",
    "    recognizer = sr.Recognizer()\n",
    "\n",
    "    with sr.Microphone() as source:\n",
    "        print(\"Speak now...\")\n",
    "        # Adjust for ambient noise\n",
    "        recognizer.adjust_for_ambient_noise(source)\n",
    "        # Listen to user's voice\n",
    "        audio = recognizer.listen(source)\n",
    "\n",
    "    try:\n",
    "        print(\"Processing voice input...\")\n",
    "        # Use recognizer to convert speech to text\n",
    "        text = recognizer.recognize_google(audio)\n",
    "        return text\n",
    "    except sr.UnknownValueError:\n",
    "        print(\"Sorry, I could not understand your speech.\")\n",
    "        return \"\"\n",
    "    except sr.RequestError as e:\n",
    "        print(f\"Error occurred; {e}\")\n",
    "        return \"\"\n",
    "\n",
    "\n",
    "def main():\n",
    "    # Prompt user to choose input method\n",
    "    print(\"Select input method:\")\n",
    "    print(\"1. Text input\")\n",
    "    print(\"2. Voice input\")\n",
    "    choice = input(\"Enter your choice (1/2): \")\n",
    "\n",
    "    if choice == \"1\":\n",
    "        text = get_text_input()\n",
    "    elif choice == \"2\":\n",
    "        text = get_voice_input()\n",
    "    else:\n",
    "        print(\"Invalid choice. Please enter 1 or 2.\")\n",
    "        return\n",
    "\n",
    "    if text:\n",
    "        print(\"Your input is:\", text)\n",
    "\n",
    "\n",
    "if __name__ == \"__main__\":\n",
    "    main()"
   ]
  }
 ],
 "metadata": {
  "kernelspec": {
   "display_name": "kinmap",
   "language": "python",
   "name": "python3"
  },
  "language_info": {
   "codemirror_mode": {
    "name": "ipython",
    "version": 3
   },
   "file_extension": ".py",
   "mimetype": "text/x-python",
   "name": "python",
   "nbconvert_exporter": "python",
   "pygments_lexer": "ipython3",
   "version": "3.12.2"
  }
 },
 "nbformat": 4,
 "nbformat_minor": 2
}
