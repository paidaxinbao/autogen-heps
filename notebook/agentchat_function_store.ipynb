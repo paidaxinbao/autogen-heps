{
 "cells": [
  {
   "cell_type": "markdown",
   "metadata": {},
   "source": [
    "# Intro to Built-In Functions from `contrib.functions`\n",
    "\n",
    "\n",
    "## Initial Setup\n",
    "\n",
    "Lets first import the necessary modules and define the agents."
   ]
  },
  {
   "cell_type": "code",
   "execution_count": 1,
   "metadata": {},
   "outputs": [],
   "source": [
    "import os\n",
    "from autogen import AssistantAgent, UserProxyAgent\n",
    "from autogen.agentchat.contrib.functions import youtube_utils as yt\n",
    "from autogen.agentchat.contrib.functions import file_utils as fu"
   ]
  },
  {
   "cell_type": "markdown",
   "metadata": {},
   "source": [
    "## Functions and Requirements\n",
    "\n",
    "A python functions can have have many requirements. For example, 3rd-party python packages and secrets.\n",
    "\n",
    "### Accessing requirements\n",
    "You can access requirements via the `python_packages` and `env_var` properties"
   ]
  },
  {
   "cell_type": "code",
   "execution_count": 2,
   "metadata": {},
   "outputs": [
    {
     "name": "stdout",
     "output_type": "stream",
     "text": [
      "Code:  get_youtube_transcript\n",
      "Required python packages:  ['youtube_transcript_api==0.6.0']\n"
     ]
    }
   ],
   "source": [
    "# get the requirements for the youtube transcript function\n",
    "print(\"Code: \", yt.get_youtube_transcript.name)\n",
    "print(\"Required python packages: \", yt.get_youtube_transcript.python_packages)\n"
   ]
  },
  {
   "cell_type": "markdown",
   "metadata": {},
   "source": []
  },
  {
   "cell_type": "markdown",
   "metadata": {},
   "source": [
    "### Testing and pre-installing requirements\n",
    "\n",
    "We also provide methods to install the required python packages. To do this, execute the following method in your execution environment. If required secrets are missing, the method will throw an error.\n",
    "\n",
    "This is especially useful when setup is costly and needs to be done before actually invoking the function in some end task (in this case use by the agent)."
   ]
  },
  {
   "cell_type": "markdown",
   "metadata": {},
   "source": [
    "## Simple Example"
   ]
  },
  {
   "cell_type": "code",
   "execution_count": 3,
   "metadata": {},
   "outputs": [],
   "source": [
    "config_list = [\n",
    "    {\n",
    "        \"model\": \"gpt-4\",\n",
    "        \"api_key\": os.environ.get(\"OPENAI_API_KEY\"),\n",
    "    }\n",
    "]\n",
    "\n",
    "assistant = AssistantAgent(name=\"coder\", llm_config={\"config_list\": config_list, \"cache\": None})\n",
    "user = UserProxyAgent(\n",
    "    name=\"user\",\n",
    "    code_execution_config={\n",
    "        \"work_dir\": \"/tmp\",\n",
    "    },\n",
    "    human_input_mode=\"NEVER\",\n",
    "    is_termination_msg=lambda x: x.get(\"content\", \"\") and \"TERMINATE\" in x.get(\"content\", \"\"),\n",
    ")"
   ]
  },
  {
   "cell_type": "code",
   "execution_count": 4,
   "metadata": {},
   "outputs": [
    {
     "name": "stdout",
     "output_type": "stream",
     "text": [
      "\u001b[33muser\u001b[0m (to coder):\n",
      "\n",
      "Please summarize the video: https://www.youtube.com/watch?v=9iqn1HhFJ6c\n",
      "\n",
      "--------------------------------------------------------------------------------\n",
      "\u001b[33mcoder\u001b[0m (to user):\n",
      "\n",
      "\u001b[32m***** Suggested tool Call (call_zCo0cdMpn3jfN8jlu7LWGqcT): get_youtube_transcript *****\u001b[0m\n",
      "Arguments: \n",
      "{\n",
      "\"youtube_link\": \"https://www.youtube.com/watch?v=9iqn1HhFJ6c\"\n",
      "}\n",
      "\u001b[32m***************************************************************************************\u001b[0m\n",
      "\n",
      "--------------------------------------------------------------------------------\n",
      "\u001b[35m\n",
      ">>>>>>>> EXECUTING FUNCTION get_youtube_transcript...\u001b[0m\n",
      "\u001b[33muser\u001b[0m (to coder):\n",
      "\n",
      "\u001b[33muser\u001b[0m (to coder):\n",
      "\n",
      "\u001b[32m***** Response from calling tool \"call_zCo0cdMpn3jfN8jlu7LWGqcT\" *****\u001b[0m\n",
      "now ai is a great thing because AI will solve all the problems that we have today it will solve employment it will solve disease it will solve poverty but it will also create new problems the problem of fake news is going to be a million times worse cyber attacks will become much more extreme we will have totally automated AI weapons I think AI has the potential to create infinitely stable dictatorships this morning a warning about the the power of artificial intelligence more than 1,300 tech industry leaders researchers and others are now asking for a pause in the development of artificial intelligence to consider the risks [Music] plain God scientists have been accused of playing God for a while but there is a real sense in which we are creating something very different from anything you've created so far yeah I mean we definitely will be able to create completely autonomous beings with their own goals and it will be very important especially as these beings become much smarter than humans it's going to be important to to have these beings the goals of these beings be aligned with our goals what inspires me I like thinking about the very fundamentals the basics what what can our systems not do that humans definitely do almost approach it philosophically questions like what is learning what is experience what is thinking how does the brain [Music] work I feel that technology is a force of nature I feel like there is a lot of similarity between technology and biological evolution it is very easy to understand how biological evolution works you have mutations you have Natural Selections you keep the good ones the ones survive and just through this process you going to have huge complexity in your [Music] organisms we cannot understand how the human body works because we understand Evolution but we understand the process more or less and I think machine learning is in a similar state right now especially deep learning we have very simple a very simple rule that takes the information from the data and puts it into the model and we just keep repeating this process and as a result of this process the complexity from the data gets transformed transferred into the complexity of the model so the resulting model is really complex and we don't really know exactly how it works you need to investigate but the algorithm that did it is very simple chat GPT maybe you've heard of it if you haven't then get ready you describe it as the first spots of rain before a downpour it's something we just need to be very conscious of because I agree at is a watershed moment Well Chad gbt is being heralded as a game changer and in many ways it is its latest Triumph outscoring people a recent study by Microsoft research concludes that gp4 is an early yet still incomplete artificial general intelligence [Music] system artificial general intelligence AGI a computer system that can do any job or any task that a human does but only better there is some probability the AGI is going to happen pretty soon there's also some probability it's going to take much longer but my position is that the probability that a ja would happen soon is high enough that we should take it [Music] seriously and it's going to be very important to make these very smart capable systems be aligned and act in our best interest the very first agis will be basically very very large data centers packed with specialized neural network processors working in parallel compact hot power hungry package consuming like 10 million homes worth of energy you're going to see dramatically more intelligent systems and I think it's highly likely that those systems will have completely astronomical impact on society will humans actually benefit and who will benefit who will [Music] not [Music] the beliefs and desires of the first agis will be extremely important and so it's important to program them correctly I think that if this is not done then the nature of evolution of natural selection favor those systems prioritize their own Survival above all else it's not that it's going to actively hate humans and want to harm them but it is going to be too powerful and I think a good analogy would be the way human humans treat animals it's not we hate animals I think humans love animals and have a lot of affection for them but when the time comes to build a highway between two cities we are not asking the animals for permission we just do it because it's important for us and I think by default that's the kind of relationship that's going to be between us and agis which are truly autonomous and operating on their own behalf [Music] tough many machine learning experts people who are very knowledgeable and very experienced have a lot of skepticism about HL about when it could happen and about whether it could happen at all right now this is something that just not that many people have realized yet that the speed of computers for neural networks for AI are going to become maybe 100,000 times faster in a small number of years if you have an arms race Dynamics between multiple teams trying to build the AGI first they will have less time make sure that the AGI that they will build will care deeply for humans cuz the way I imagine it is that there is an avalanche like there is an avalanche of AGI development imagine it this huge Unstoppable force and I think it's pretty likely the entire surface of the Earth will be covered with solar panels and data Cent given these kinds of concerns it will be important that AGI somehow buil as a cooperation between multiple countries the future is going to be good for the AI regardless would be nice if it were good for humans as well\n",
      "\u001b[32m**********************************************************************\u001b[0m\n",
      "\n",
      "--------------------------------------------------------------------------------\n",
      "\u001b[33mcoder\u001b[0m (to user):\n",
      "\n",
      "The video discusses the potential and risks of Artificial Intelligence (AI). The video opens with a claim that while AI has the potential to solve many current issues such as employment, disease, and poverty, it also presents new problems like exacerbating the spread of fake news and escalating cyber attacks. AI could also potentially facilitate the creation of stable dictatorships.\n",
      "\n",
      "Over 1300 tech industry leaders and researchers are calling for a pause in the development of AI to consider these risks. The video discusses the goal of creating autonomous beings through AI, entities with their own goals which will need to be aligned with human goals. \n",
      "\n",
      "The video brings up Chat GPT, an evolution in AI that is considered a game changer, heralding an impending downpour of advancements. The video claims that the initial AI would be large data centers packed with neural network processors. These systems may have an astronomical impact on humankind, but it raises the question of who will and won't benefit.\n",
      "\n",
      "There are concerns about the beliefs and desires of these AIs, whether they will prioritize their own survival above all else, possibly treating humans not out of malice but with the disregard humans often have for animals when creating infrastructure. \n",
      "\n",
      "A contrasting viewpoint offered in the video is skepticism towards the possibility and timeline of AGI (Artificial General Intelligence) development from other machine learning experts. The speaker continues that with the development of AI expected to be exponentially faster within a few years, it could instigate a race to build AGI first, risking the care and consideration for humans in the process.\n",
      "\n",
      "The video concludes suggesting that the future development of AGI should be collaborative between multiple countries, hoping for a future that is beneficial for both AI and humans. \n",
      "\n",
      "TERMINATE\n",
      "\n",
      "--------------------------------------------------------------------------------\n"
     ]
    }
   ],
   "source": [
    "assistant.register_for_llm(description=\"Fetch transcript of a youtube video\")(yt.get_youtube_transcript)\n",
    "user.register_for_execution()(yt.get_youtube_transcript)\n",
    "\n",
    "result = user.initiate_chat(\n",
    "    assistant,\n",
    "    message=\"Please summarize the video: https://www.youtube.com/watch?v=9iqn1HhFJ6c\",\n",
    "    summary_method=\"last_msg\",\n",
    ")"
   ]
  },
  {
   "cell_type": "markdown",
   "metadata": {},
   "source": [
    "## Advanced: Registering Multiple Functions\n",
    "\n",
    "Lets import multiple functions and use them accomplish more complex tasks."
   ]
  },
  {
   "cell_type": "code",
   "execution_count": 5,
   "metadata": {},
   "outputs": [],
   "source": [
    "# register multiple file reading functions\n",
    "for foo in [\n",
    "    # fu.read_text_from_image,\n",
    "    fu.read_text_from_pdf,\n",
    "    fu.read_text_from_docx,\n",
    "    fu.read_text_from_pptx,\n",
    "    fu.read_text_from_xlsx,\n",
    "    fu.read_text_from_audio,\n",
    "]:\n",
    "    foo_desc = foo.__doc__  # get doctring of the function\n",
    "    assistant.register_for_llm(description=foo_desc)(foo)\n",
    "    user.register_for_execution()(foo)"
   ]
  },
  {
   "cell_type": "code",
   "execution_count": 6,
   "metadata": {},
   "outputs": [
    {
     "name": "stdout",
     "output_type": "stream",
     "text": [
      "\u001b[33muser\u001b[0m (to coder):\n",
      "\n",
      "Please summarize the contents of the following files: https://upload.wikimedia.org/wikipedia/commons/thumb/0/0f/Captioned_image_dataset_examples.jpg/1024px-Captioned_image_dataset_examples.jpg https://www.w3.org/WAI/ER/tests/xhtml/testfiles/resources/pdf/dummy.pdf https://github.com/realpython/python-speech-recognition/raw/master/audio_files/harvard.wav\n",
      "\n",
      "--------------------------------------------------------------------------------\n",
      "\u001b[33mcoder\u001b[0m (to user):\n",
      "\n",
      "\u001b[32m***** Suggested tool Call (call_A82Eb6pF1WcBZR6rBlfTEL0h): read_text_from_pdf *****\u001b[0m\n",
      "Arguments: \n",
      "{\n",
      "  \"file_path\": \"https://www.w3.org/WAI/ER/tests/xhtml/testfiles/resources/pdf/dummy.pdf\"\n",
      "}\n",
      "\u001b[32m***********************************************************************************\u001b[0m\n",
      "\n",
      "--------------------------------------------------------------------------------\n",
      "\u001b[35m\n",
      ">>>>>>>> EXECUTING FUNCTION read_text_from_pdf...\u001b[0m\n",
      "\u001b[33muser\u001b[0m (to coder):\n",
      "\n",
      "\u001b[33muser\u001b[0m (to coder):\n",
      "\n",
      "\u001b[32m***** Response from calling tool \"call_A82Eb6pF1WcBZR6rBlfTEL0h\" *****\u001b[0m\n",
      "Dummy PDF file\f\n",
      "\u001b[32m**********************************************************************\u001b[0m\n",
      "\n",
      "--------------------------------------------------------------------------------\n",
      "\u001b[33mcoder\u001b[0m (to user):\n",
      "\n",
      "\u001b[32m***** Suggested tool Call (call_VsuV254dKEwDWuHyDKAxZbtw): read_text_from_audio *****\u001b[0m\n",
      "Arguments: \n",
      "{\n",
      "  \"file_path\": \"https://github.com/realpython/python-speech-recognition/raw/master/audio_files/harvard.wav\"\n",
      "}\n",
      "\u001b[32m*************************************************************************************\u001b[0m\n",
      "\n",
      "--------------------------------------------------------------------------------\n",
      "\u001b[35m\n",
      ">>>>>>>> EXECUTING FUNCTION read_text_from_audio...\u001b[0m\n",
      "\u001b[33muser\u001b[0m (to coder):\n",
      "\n",
      "\u001b[33muser\u001b[0m (to coder):\n",
      "\n",
      "\u001b[32m***** Response from calling tool \"call_VsuV254dKEwDWuHyDKAxZbtw\" *****\u001b[0m\n",
      "the stale smell of old beer lingers it takes heat to bring out the odor a cold dip restores health and zest a salt pickle taste fine with ham tacos al pastor are my favorite a zestful food is the hot cross bun\n",
      "\u001b[32m**********************************************************************\u001b[0m\n",
      "\n",
      "--------------------------------------------------------------------------------\n",
      "\u001b[33mcoder\u001b[0m (to user):\n",
      "\n",
      "The content of the file at \"https://www.w3.org/WAI/ER/tests/xhtml/testfiles/resources/pdf/dummy.pdf\" is \"Dummy PDF file\".\n",
      "\n",
      "The content of the audio file at \"https://github.com/realpython/python-speech-recognition/raw/master/audio_files/harvard.wav\" is \"the stale smell of old beer lingers it takes heat to bring out the odor a cold dip restores health and zest a salt pickle taste fine with ham tacos al pastor are my favorite a zestful food is the hot cross bun\".\n",
      "\n",
      "As for the image file at \"https://upload.wikimedia.org/wikipedia/commons/thumb/0/0f/Captioned_image_dataset_examples.jpg/1024px-Captioned_image_dataset_examples.jpg\", without an appropriate tool, I'm unable to extract or summarize content from images as it may contain non-textual data.\n",
      "\n",
      "Remember, summarization involves understanding and condensing the content in a textual format. For images, it might be a description of the image or the text contained in it if any. But with the present capabilities, the image content can't be summarized.\n",
      "\n",
      "TERMINATE\n",
      "\n",
      "--------------------------------------------------------------------------------\n"
     ]
    }
   ],
   "source": [
    "dummy_png = \"https://upload.wikimedia.org/wikipedia/commons/thumb/0/0f/Captioned_image_dataset_examples.jpg/1024px-Captioned_image_dataset_examples.jpg\"\n",
    "dummy_pdf = \"https://www.w3.org/WAI/ER/tests/xhtml/testfiles/resources/pdf/dummy.pdf\"\n",
    "dummy_mp3 = \"https://github.com/realpython/python-speech-recognition/raw/master/audio_files/harvard.wav\"\n",
    "\n",
    "result = user.initiate_chat(\n",
    "    assistant,\n",
    "    message=f\"Please summarize the contents of the following files: {' '.join([dummy_png, dummy_pdf, dummy_mp3])}\",\n",
    "    summary_method=\"last_msg\",\n",
    ")"
   ]
  },
  {
   "cell_type": "markdown",
   "metadata": {},
   "source": [
    "## Advanced: Functions that Require Secrets\n",
    "\n",
    "In this example, we will use a function that expects a secret, e.g., an `OPENAI_API_KEY` for it work. One such example is the function that using GPT-4-vision to perform image understanding."
   ]
  },
  {
   "cell_type": "code",
   "execution_count": 7,
   "metadata": {},
   "outputs": [
    {
     "name": "stdout",
     "output_type": "stream",
     "text": [
      "\u001b[33muser\u001b[0m (to coder):\n",
      "\n",
      "Please summarize the contents of the following image using gpt4v: https://upload.wikimedia.org/wikipedia/commons/thumb/0/0f/Captioned_image_dataset_examples.jpg/1024px-Captioned_image_dataset_examples.jpg\n",
      "\n",
      "--------------------------------------------------------------------------------\n",
      "\u001b[33mcoder\u001b[0m (to user):\n",
      "\n",
      "\u001b[32m***** Suggested tool Call (call_PeT4QTSuC1T8BOzGfCswdCc8): caption_image_using_gpt4v *****\u001b[0m\n",
      "Arguments: \n",
      "{\n",
      "  \"file_path_or_url\": \"https://upload.wikimedia.org/wikipedia/commons/thumb/0/0f/Captioned_image_dataset_examples.jpg/1024px-Captioned_image_dataset_examples.jpg\"\n",
      "}\n",
      "\u001b[32m******************************************************************************************\u001b[0m\n",
      "\n",
      "--------------------------------------------------------------------------------\n",
      "\u001b[35m\n",
      ">>>>>>>> EXECUTING FUNCTION caption_image_using_gpt4v...\u001b[0m\n",
      "\u001b[33muser\u001b[0m (to coder):\n",
      "\n",
      "\u001b[33muser\u001b[0m (to coder):\n",
      "\n",
      "\u001b[32m***** Response from calling tool \"call_PeT4QTSuC1T8BOzGfCswdCc8\" *****\u001b[0m\n",
      "The image appears to be a collage with three rows of photos, each row labeled with a different category: flowers, birds, and COCO.\n",
      "\n",
      "In the top row, under \"Oxford-102 Flowers,\" there are four images:\n",
      "1. A flower with red petals and yellow tips.\n",
      "2. A white flower with yellow anthers in the center.\n",
      "3. A purple flower with nearly heart-shaped petals and small green receptacles.\n",
      "4. A yellow flower with many layers and a small insect on it.\n",
      "\n",
      "In the middle row, labeled \"CUB-200 Birds,\" there are four images:\n",
      "1. A blue bird with white on its head, blue feathers, and a white belly.\n",
      "2. A black bird with a large blunt beak.\n",
      "3. A bird with a green wing, brown breast, and a red bill.\n",
      "4. A bird with long black wings, a white breast, and a short, black bill.\n",
      "\n",
      "In the bottom row, under \"COCO,\" there are four images:\n",
      "1. Two people holding snowboards, standing in the snow.\n",
      "2. A plate of rice and beans with soup and juice, presumably a meal.\n",
      "3. A big rig truck in a parking lot without a trailer.\n",
      "4. A group of men traveling on horses in water, which looks like a river crossing. \n",
      "\n",
      "Each image is accompanied by a brief description, likely for a dataset designed to teach AI systems how to recognize and describe various objects and scenes.\n",
      "\u001b[32m**********************************************************************\u001b[0m\n",
      "\n",
      "--------------------------------------------------------------------------------\n",
      "\u001b[33mcoder\u001b[0m (to user):\n",
      "\n",
      "The image you provided appears to be a collage with three rows of photos, each row labeled with a different category: flowers, birds, and the COCO database. \n",
      "\n",
      "In the top row, the \"Oxford-102 Flowers\" category includes four images of exemplary flowers:\n",
      "1. A flower with red petals and yellow tips.\n",
      "2. A white flower with yellow anthers in the center.\n",
      "3. A purple flower with nearly heart-shaped petals and small green receptacles.\n",
      "4. A yellow flower with many layers and a small insect on it.\n",
      "\n",
      "In the middle row, under the \"CUB-200 Birds\" label, there are four images of different birds:\n",
      "1. A blue bird with white on its head, blue feathers, and a white belly.\n",
      "2. A black bird with a large blunt beak.\n",
      "3. A bird with a green wing, brown breast, and a red bill.\n",
      "4. A bird with long black wings, a white breast, and a short, black bill.\n",
      "\n",
      "Finally, in the bottom row, under the \"COCO\" label, there are four generalized images presumably from the COCO database:\n",
      "1. Two people holding snowboards, standing in the snow.\n",
      "2. A plate of rice and beans with soup and juice, what appears to be a meal.\n",
      "3. A big rig truck in a parking lot without a trailer.\n",
      "4. A group of men traveling on horses in water, which looks like a river crossing.\n",
      "\n",
      "Each image is accompanied by a brief description, likely designed for the purpose of teaching AI systems how to recognize and describe various objects and scenes.\n",
      "\n",
      "TERMINATE\n",
      "\n",
      "--------------------------------------------------------------------------------\n"
     ]
    }
   ],
   "source": [
    "assistant.register_for_llm(description=\"Use gpt4 vision to understand an image\")(fu.caption_image_using_gpt4v)\n",
    "user.register_for_execution()(fu.caption_image_using_gpt4v)\n",
    "\n",
    "result = user.initiate_chat(\n",
    "    assistant,\n",
    "    message=f\"Please summarize the contents of the following image using gpt4v: {dummy_png}\",\n",
    "    summary_method=\"last_msg\",\n",
    ")"
   ]
  }
 ],
 "metadata": {
  "kernelspec": {
   "display_name": "Python 3",
   "language": "python",
   "name": "python3"
  },
  "language_info": {
   "codemirror_mode": {
    "name": "ipython",
    "version": 3
   },
   "file_extension": ".py",
   "mimetype": "text/x-python",
   "name": "python",
   "nbconvert_exporter": "python",
   "pygments_lexer": "ipython3",
   "version": "3.10.13"
  }
 },
 "nbformat": 4,
 "nbformat_minor": 2
}
